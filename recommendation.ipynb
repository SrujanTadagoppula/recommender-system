{
 "cells": [
  {
   "cell_type": "code",
   "execution_count": 1,
   "metadata": {},
   "outputs": [
    {
     "data": {
      "text/html": [
       "<script type=\"text/javascript\">window.PlotlyConfig = {MathJaxConfig: 'local'};</script><script type=\"text/javascript\">if (window.MathJax) {MathJax.Hub.Config({SVG: {font: \"STIX-Web\"}});}</script><script>requirejs.config({paths: { 'plotly': ['https://cdn.plot.ly/plotly-latest.min']},});if(!window._Plotly) {require(['plotly'],function(plotly) {window._Plotly=plotly;});}</script>"
      ],
      "text/vnd.plotly.v1+html": [
       "<script type=\"text/javascript\">window.PlotlyConfig = {MathJaxConfig: 'local'};</script><script type=\"text/javascript\">if (window.MathJax) {MathJax.Hub.Config({SVG: {font: \"STIX-Web\"}});}</script><script>requirejs.config({paths: { 'plotly': ['https://cdn.plot.ly/plotly-latest.min']},});if(!window._Plotly) {require(['plotly'],function(plotly) {window._Plotly=plotly;});}</script>"
      ]
     },
     "metadata": {},
     "output_type": "display_data"
    }
   ],
   "source": [
    "#importing required libraries\n",
    "from PIL import Image\n",
    "import requests\n",
    "from io import BytesIO\n",
    "import matplotlib.pyplot as plt\n",
    "import numpy as np\n",
    "import pandas as pd\n",
    "import warnings\n",
    "from bs4 import BeautifulSoup\n",
    "from nltk.corpus import stopwords\n",
    "from nltk.tokenize import word_tokenize\n",
    "import nltk\n",
    "import math\n",
    "import time\n",
    "import re\n",
    "import os\n",
    "import seaborn as sns\n",
    "from collections import Counter\n",
    "from sklearn.feature_extraction.text import CountVectorizer\n",
    "from sklearn.feature_extraction.text import TfidfVectorizer\n",
    "from sklearn.metrics.pairwise import cosine_similarity  \n",
    "from sklearn.metrics import pairwise_distances\n",
    "from matplotlib import gridspec\n",
    "from scipy.sparse import hstack\n",
    "import plotly\n",
    "import plotly.figure_factory as ff\n",
    "from plotly.graph_objs import Scatter, Layout\n",
    "\n",
    "plotly.offline.init_notebook_mode(connected=True)\n",
    "warnings.filterwarnings(\"ignore\")\n",
    "\n",
    "import collections\n",
    "import nltk\n",
    "from nltk.corpus import stopwords\n",
    "from nltk.stem import PorterStemmer\n",
    "from sklearn.feature_extraction.text import TfidfVectorizer\n",
    "from bs4 import BeautifulSoup\n",
    "from nltk.tokenize import word_tokenize "
   ]
  },
  {
   "cell_type": "code",
   "execution_count": 71,
   "metadata": {},
   "outputs": [],
   "source": [
    "#reading csv files and filling the NaN values\n",
    "if os.path.isfile('users.csv'):\n",
    "    users = pd.read_csv(\"users.csv\", nrows=22000)\n",
    "    apps = pd.read_csv(\"apps.csv\")\n",
    "else:\n",
    "    print(\"get users.csv from drive or run the previous notebook\")"
   ]
  },
  {
   "cell_type": "code",
   "execution_count": 72,
   "metadata": {},
   "outputs": [
    {
     "name": "stdout",
     "output_type": "stream",
     "text": [
      "<class 'pandas.core.frame.DataFrame'>\n",
      "RangeIndex: 22000 entries, 0 to 21999\n",
      "Data columns (total 10 columns):\n",
      "user_id                22000 non-null int64\n",
      "prefered_location      22000 non-null object\n",
      "user_education         22000 non-null object\n",
      "user_skills            22000 non-null object\n",
      "user_education_year    22000 non-null object\n",
      "work_history_count     22000 non-null int64\n",
      "user_experience        22000 non-null int64\n",
      "currently_employed     22000 non-null object\n",
      "managed_others         22000 non-null object\n",
      "managed_howmany        22000 non-null int64\n",
      "dtypes: int64(4), object(6)\n",
      "memory usage: 1.7+ MB\n"
     ]
    }
   ],
   "source": [
    "users.info()"
   ]
  },
  {
   "cell_type": "code",
   "execution_count": 73,
   "metadata": {},
   "outputs": [
    {
     "name": "stdout",
     "output_type": "stream",
     "text": [
      "<class 'pandas.core.frame.DataFrame'>\n",
      "RangeIndex: 22000 entries, 0 to 21999\n",
      "Data columns (total 14 columns):\n",
      "company                22000 non-null object\n",
      "education              22000 non-null object\n",
      "experience             22000 non-null object\n",
      "industry               22000 non-null object\n",
      "jobdescription         22000 non-null object\n",
      "jobid                  22000 non-null int64\n",
      "joblocation_address    22000 non-null object\n",
      "jobtitle               22000 non-null object\n",
      "numberofpositions      21999 non-null float64\n",
      "payrate                22000 non-null object\n",
      "postdate               22000 non-null object\n",
      "site_name              13063 non-null object\n",
      "skills                 22000 non-null object\n",
      "uniq_id                22000 non-null object\n",
      "dtypes: float64(1), int64(1), object(12)\n",
      "memory usage: 2.3+ MB\n"
     ]
    }
   ],
   "source": [
    "apps.info()"
   ]
  },
  {
   "cell_type": "code",
   "execution_count": 74,
   "metadata": {},
   "outputs": [],
   "source": [
    "#dropping outliers\n",
    "\n",
    "\n",
    "# users.drop(users.loc[users['ManagedHowMany'] > 5].index, inplace=True)\n",
    "# users.drop(users.loc[users['TotalYearsExperience'] >=30].index, inplace=True)\n",
    "# users.drop(users.loc[users['WorkHistoryCount'] > 8].index, inplace=True)"
   ]
  },
  {
   "cell_type": "code",
   "execution_count": 75,
   "metadata": {},
   "outputs": [
    {
     "data": {
      "text/plain": [
       "Index([u'company', u'education', u'experience', u'industry', u'jobdescription',\n",
       "       u'jobid', u'joblocation_address', u'jobtitle', u'numberofpositions',\n",
       "       u'payrate', u'postdate', u'site_name', u'skills', u'uniq_id'],\n",
       "      dtype='object')"
      ]
     },
     "execution_count": 75,
     "metadata": {},
     "output_type": "execute_result"
    }
   ],
   "source": [
    "apps.columns"
   ]
  },
  {
   "cell_type": "code",
   "execution_count": 76,
   "metadata": {},
   "outputs": [
    {
     "data": {
      "text/plain": [
       "Index([u'user_id', u'prefered_location', u'user_education', u'user_skills',\n",
       "       u'user_education_year', u'work_history_count', u'user_experience',\n",
       "       u'currently_employed', u'managed_others', u'managed_howmany'],\n",
       "      dtype='object')"
      ]
     },
     "execution_count": 76,
     "metadata": {},
     "output_type": "execute_result"
    }
   ],
   "source": [
    "users.columns"
   ]
  },
  {
   "cell_type": "code",
   "execution_count": 77,
   "metadata": {},
   "outputs": [
    {
     "data": {
      "text/plain": [
       "(22000, 10)"
      ]
     },
     "execution_count": 77,
     "metadata": {},
     "output_type": "execute_result"
    }
   ],
   "source": [
    "users.shape"
   ]
  },
  {
   "cell_type": "code",
   "execution_count": 78,
   "metadata": {},
   "outputs": [
    {
     "data": {
      "text/plain": [
       "(22000, 14)"
      ]
     },
     "execution_count": 78,
     "metadata": {},
     "output_type": "execute_result"
    }
   ],
   "source": [
    "apps.shape"
   ]
  },
  {
   "cell_type": "code",
   "execution_count": 79,
   "metadata": {},
   "outputs": [
    {
     "data": {
      "text/html": [
       "<div>\n",
       "<style scoped>\n",
       "    .dataframe tbody tr th:only-of-type {\n",
       "        vertical-align: middle;\n",
       "    }\n",
       "\n",
       "    .dataframe tbody tr th {\n",
       "        vertical-align: top;\n",
       "    }\n",
       "\n",
       "    .dataframe thead th {\n",
       "        text-align: right;\n",
       "    }\n",
       "</style>\n",
       "<table border=\"1\" class=\"dataframe\">\n",
       "  <thead>\n",
       "    <tr style=\"text-align: right;\">\n",
       "      <th></th>\n",
       "      <th>user_id</th>\n",
       "      <th>prefered_location</th>\n",
       "      <th>user_education</th>\n",
       "      <th>user_skills</th>\n",
       "      <th>user_education_year</th>\n",
       "      <th>work_history_count</th>\n",
       "      <th>user_experience</th>\n",
       "      <th>currently_employed</th>\n",
       "      <th>managed_others</th>\n",
       "      <th>managed_howmany</th>\n",
       "    </tr>\n",
       "  </thead>\n",
       "  <tbody>\n",
       "    <tr>\n",
       "      <th>0</th>\n",
       "      <td>47</td>\n",
       "      <td>chennai</td>\n",
       "      <td>mechanical engineering</td>\n",
       "      <td>ites</td>\n",
       "      <td>1999</td>\n",
       "      <td>3</td>\n",
       "      <td>10</td>\n",
       "      <td>yes</td>\n",
       "      <td>no</td>\n",
       "      <td>0</td>\n",
       "    </tr>\n",
       "    <tr>\n",
       "      <th>1</th>\n",
       "      <td>80</td>\n",
       "      <td>bengaluru</td>\n",
       "      <td>electrical electronics engineering</td>\n",
       "      <td>it software  to application programming</td>\n",
       "      <td>1985</td>\n",
       "      <td>5</td>\n",
       "      <td>11</td>\n",
       "      <td>yes</td>\n",
       "      <td>yes</td>\n",
       "      <td>5</td>\n",
       "    </tr>\n",
       "  </tbody>\n",
       "</table>\n",
       "</div>"
      ],
      "text/plain": [
       "   user_id prefered_location                      user_education  \\\n",
       "0       47           chennai              mechanical engineering   \n",
       "1       80         bengaluru  electrical electronics engineering   \n",
       "\n",
       "                               user_skills user_education_year  \\\n",
       "0                                     ites                1999   \n",
       "1  it software  to application programming                1985   \n",
       "\n",
       "   work_history_count  user_experience currently_employed managed_others  \\\n",
       "0                   3               10                yes             no   \n",
       "1                   5               11                yes            yes   \n",
       "\n",
       "   managed_howmany  \n",
       "0                0  \n",
       "1                5  "
      ]
     },
     "execution_count": 79,
     "metadata": {},
     "output_type": "execute_result"
    }
   ],
   "source": [
    "users.head(2)"
   ]
  },
  {
   "cell_type": "code",
   "execution_count": 80,
   "metadata": {},
   "outputs": [
    {
     "data": {
      "text/html": [
       "<div>\n",
       "<style scoped>\n",
       "    .dataframe tbody tr th:only-of-type {\n",
       "        vertical-align: middle;\n",
       "    }\n",
       "\n",
       "    .dataframe tbody tr th {\n",
       "        vertical-align: top;\n",
       "    }\n",
       "\n",
       "    .dataframe thead th {\n",
       "        text-align: right;\n",
       "    }\n",
       "</style>\n",
       "<table border=\"1\" class=\"dataframe\">\n",
       "  <thead>\n",
       "    <tr style=\"text-align: right;\">\n",
       "      <th></th>\n",
       "      <th>company</th>\n",
       "      <th>education</th>\n",
       "      <th>experience</th>\n",
       "      <th>industry</th>\n",
       "      <th>jobdescription</th>\n",
       "      <th>jobid</th>\n",
       "      <th>joblocation_address</th>\n",
       "      <th>jobtitle</th>\n",
       "      <th>numberofpositions</th>\n",
       "      <th>payrate</th>\n",
       "      <th>postdate</th>\n",
       "      <th>site_name</th>\n",
       "      <th>skills</th>\n",
       "      <th>uniq_id</th>\n",
       "    </tr>\n",
       "  </thead>\n",
       "  <tbody>\n",
       "    <tr>\n",
       "      <th>0</th>\n",
       "      <td>mm media pvt ltd</td>\n",
       "      <td>ug  b tech b e   to any specialization pg any ...</td>\n",
       "      <td>0  to 1  years</td>\n",
       "      <td>media   entertainment   internet</td>\n",
       "      <td>job   description   â   ownend   me   jobs  ...</td>\n",
       "      <td>210516002263</td>\n",
       "      <td>chennai</td>\n",
       "      <td>walkin data entry operator  night shift</td>\n",
       "      <td>NaN</td>\n",
       "      <td>150k  to 225k p a</td>\n",
       "      <td>2016-05-21 19:30:00 +0000</td>\n",
       "      <td>NaN</td>\n",
       "      <td>ites</td>\n",
       "      <td>43b19632647068535437c774b6ca6cf8</td>\n",
       "    </tr>\n",
       "    <tr>\n",
       "      <th>1</th>\n",
       "      <td>find live infotech</td>\n",
       "      <td>ug  b tech b e   to any specialization pg mba ...</td>\n",
       "      <td>0  to 0  years</td>\n",
       "      <td>advertising   pr   mr   event management</td>\n",
       "      <td>job   description   â   ownend   me   jobs  ...</td>\n",
       "      <td>210516002391</td>\n",
       "      <td>chennai</td>\n",
       "      <td>work based onhome based part time</td>\n",
       "      <td>60.0</td>\n",
       "      <td>150k  to 250k p a  20k</td>\n",
       "      <td>2016-05-21 19:30:00 +0000</td>\n",
       "      <td>NaN</td>\n",
       "      <td>marketing</td>\n",
       "      <td>d4c72325e57f89f364812b5ed5a795f0</td>\n",
       "    </tr>\n",
       "  </tbody>\n",
       "</table>\n",
       "</div>"
      ],
      "text/plain": [
       "              company                                          education  \\\n",
       "0    mm media pvt ltd  ug  b tech b e   to any specialization pg any ...   \n",
       "1  find live infotech  ug  b tech b e   to any specialization pg mba ...   \n",
       "\n",
       "       experience                                  industry  \\\n",
       "0  0  to 1  years          media   entertainment   internet   \n",
       "1  0  to 0  years  advertising   pr   mr   event management   \n",
       "\n",
       "                                      jobdescription         jobid  \\\n",
       "0    job   description   â   ownend   me   jobs  ...  210516002263   \n",
       "1    job   description   â   ownend   me   jobs  ...  210516002391   \n",
       "\n",
       "  joblocation_address                                  jobtitle  \\\n",
       "0             chennai  walkin data entry operator  night shift    \n",
       "1             chennai        work based onhome based part time    \n",
       "\n",
       "   numberofpositions                 payrate                   postdate  \\\n",
       "0                NaN       150k  to 225k p a  2016-05-21 19:30:00 +0000   \n",
       "1               60.0  150k  to 250k p a  20k  2016-05-21 19:30:00 +0000   \n",
       "\n",
       "  site_name     skills                           uniq_id  \n",
       "0       NaN       ites  43b19632647068535437c774b6ca6cf8  \n",
       "1       NaN  marketing  d4c72325e57f89f364812b5ed5a795f0  "
      ]
     },
     "execution_count": 80,
     "metadata": {},
     "output_type": "execute_result"
    }
   ],
   "source": [
    "apps.head(2)"
   ]
  },
  {
   "cell_type": "code",
   "execution_count": 81,
   "metadata": {},
   "outputs": [],
   "source": [
    "#removing the unncessary rows\n",
    "del apps['site_name']\n",
    "del apps['jobid']\n",
    "del apps['industry']\n"
   ]
  },
  {
   "cell_type": "code",
   "execution_count": 82,
   "metadata": {},
   "outputs": [
    {
     "name": "stdout",
     "output_type": "stream",
     "text": [
      "count                            22000\n",
      "unique                           17148\n",
      "top       business development manager\n",
      "freq                               101\n",
      "Name: jobtitle, dtype: object\n"
     ]
    }
   ],
   "source": [
    "print(apps['jobtitle'].describe())"
   ]
  },
  {
   "cell_type": "code",
   "execution_count": 83,
   "metadata": {},
   "outputs": [
    {
     "name": "stdout",
     "output_type": "stream",
     "text": [
      "['walkin data entry operator  night shift '\n",
      " 'work based onhome based part time ' 'pl sql developer  to sql' ...\n",
      " 'full stack development engineer'\n",
      " 'sr ui developer  technical lead  to html  css  javascript  angularjs'\n",
      " 'rf firmware engineers']\n"
     ]
    }
   ],
   "source": [
    "print(apps['jobtitle'].unique())"
   ]
  },
  {
   "cell_type": "code",
   "execution_count": 84,
   "metadata": {},
   "outputs": [
    {
     "data": {
      "text/plain": [
       "[('business development manager', 101),\n",
       " ('business development executive', 96),\n",
       " ('software engineer', 88),\n",
       " ('android developer', 77),\n",
       " ('php developer', 72),\n",
       " ('project manager', 71),\n",
       " ('web designer', 69),\n",
       " ('content writer', 68),\n",
       " ('java developer', 61),\n",
       " ('senior software engineer', 60)]"
      ]
     },
     "execution_count": 84,
     "metadata": {},
     "output_type": "execute_result"
    }
   ],
   "source": [
    "import collections\n",
    "job_type_count = collections.Counter(list(apps['jobtitle']))\n",
    "job_type_count.most_common(10)"
   ]
  },
  {
   "cell_type": "code",
   "execution_count": 85,
   "metadata": {},
   "outputs": [
    {
     "data": {
      "text/plain": [
       "[('8e6baca57b00dd028ee71e509ebbd517', 1),\n",
       " ('acf1d15d447eb784d80264c7bf93ad53', 1),\n",
       " ('8ebddbdbc4977f0c9aaf30057f0fd060', 1),\n",
       " ('84aa071a193771c7d02d9b86cd2c3631', 1),\n",
       " ('35bfb62d31ec55ba3cd8111385c79971', 1),\n",
       " ('503f7285d325e4ce25dd8dbbd981ca4b', 1),\n",
       " ('f964843fd56bc1cd0e5dfa8edcb2a05f', 1),\n",
       " ('4263b7cb2ab24a6c1167b1eaefb7a97e', 1),\n",
       " ('4cb81524477c6e235573b3b4ada0e6db', 1),\n",
       " ('5bff19e38756598af7617dcaad86d6dd', 1)]"
      ]
     },
     "execution_count": 85,
     "metadata": {},
     "output_type": "execute_result"
    }
   ],
   "source": [
    "job_type_count = collections.Counter(list(apps['uniq_id']))\n",
    "job_type_count.most_common(10)"
   ]
  },
  {
   "cell_type": "code",
   "execution_count": 86,
   "metadata": {},
   "outputs": [
    {
     "name": "stdout",
     "output_type": "stream",
     "text": [
      "count                   22000\n",
      "unique                   2317\n",
      "top       bengaluru bangalore\n",
      "freq                     3802\n",
      "Name: joblocation_address, dtype: object\n"
     ]
    }
   ],
   "source": [
    "print(apps['joblocation_address'].describe())"
   ]
  },
  {
   "cell_type": "code",
   "execution_count": 87,
   "metadata": {},
   "outputs": [
    {
     "name": "stdout",
     "output_type": "stream",
     "text": [
      "count                   22000\n",
      "unique                   2317\n",
      "top       bengaluru bangalore\n",
      "freq                     3802\n",
      "Name: joblocation_address, dtype: object\n"
     ]
    }
   ],
   "source": [
    "print(apps['joblocation_address'].describe())"
   ]
  },
  {
   "cell_type": "code",
   "execution_count": null,
   "metadata": {},
   "outputs": [],
   "source": []
  },
  {
   "cell_type": "code",
   "execution_count": 88,
   "metadata": {},
   "outputs": [],
   "source": [
    "#data preprocessing steps\n",
    "\n",
    "import re\n",
    "from nltk.tokenize import sent_tokenize, word_tokenize \n",
    "stop_words = stopwords.words(\"english\")\n",
    "\n",
    "def preprocess(x):\n",
    "    x = str(x).lower()\n",
    "    x = x.replace(\",000,000\", \"m\").replace(\",000\", \"k\").replace(\"′\", \"'\").replace(\"’\", \"'\")\\\n",
    "                           .replace(\"won't\", \"will not\").replace(\"cannot\", \"can not\").replace(\"can't\", \"can not\")\\\n",
    "                           .replace(\"n't\", \" not\").replace(\"what's\", \"what is\").replace(\"it's\", \"it is\")\\\n",
    "                           .replace(\"'ve\", \" have\").replace(\"i'm\", \"i am\").replace(\"'re\", \" are\")\\\n",
    "                           .replace(\"he's\", \"he is\").replace(\"she's\", \"she is\").replace(\"'s\", \" own\")\\\n",
    "                           .replace(\"%\", \" percent \").replace(\"₹\", \" rupee \").replace(\"$\", \" dollar \")\\\n",
    "                           .replace(\"€\", \" euro \").replace(\"'ll\", \" will\").replace(\"yrs\", \" years\")\\\n",
    "                           .replace(\"-\", \" to\").replace(\"/\", \" \").replace(\",\", \"\")\n",
    "        \n",
    "                            \n",
    "    x = re.sub(r\"([0-9]+)000000\", r\"\\1m\", x)\n",
    "    x = re.sub(r\"([0-9]+)000\", r\"\\1k\", x)\n",
    "#     porter = PorterStemmer()\n",
    "    pattern = re.compile('\\W')\n",
    "    \n",
    "    if type(x) == type(''):\n",
    "        x = re.sub(pattern, ' ', x)\n",
    "    \n",
    "\n",
    "               \n",
    "    \n",
    "    return x "
   ]
  },
  {
   "cell_type": "code",
   "execution_count": 89,
   "metadata": {},
   "outputs": [],
   "source": [
    "# applying data preprocessing\n",
    "users[\"prefered_location\"] = users[\"prefered_location\"].fillna(\"\").apply(preprocess)\n",
    "users[\"user_education\"] = users[\"user_education\"].fillna(\"\").apply(preprocess)\n",
    "users[\"user_skills\"] = users[\"user_skills\"].fillna(\"\").apply(preprocess)\n",
    "users[\"user_education_year\"] = users[\"user_education_year\"].fillna(\"\").apply(preprocess)\n",
    "users[\"user_experience\"] = users[\"user_experience\"].fillna(\"\").apply(preprocess)\n",
    "users[\"currently_employed\"] = users[\"currently_employed\"].fillna(\"\").apply(preprocess)\n",
    "\n",
    "\n",
    "\n",
    "apps[\"company\"] = apps[\"company\"].fillna(\"\").apply(preprocess)\n",
    "apps[\"experience\"] = apps[\"experience\"].fillna(\"\").apply(preprocess)\n",
    "apps[\"education\"] = apps[\"education\"].fillna(\"\").apply(preprocess)\n",
    "apps[\"jobdescription\"] = apps[\"jobdescription\"].fillna(\"\").apply(preprocess)\n",
    "apps[\"joblocation_address\"] = apps[\"joblocation_address\"].fillna(\"\").apply(preprocess)\n",
    "apps[\"jobtitle\"] = apps[\"jobtitle\"].fillna(\"\").apply(preprocess)\n",
    "apps[\"payrate\"] = apps[\"payrate\"].fillna(\"\").apply(preprocess)\n",
    "apps[\"skills\"] = apps[\"skills\"].fillna(\"\").apply(preprocess)"
   ]
  },
  {
   "cell_type": "code",
   "execution_count": 90,
   "metadata": {},
   "outputs": [],
   "source": [
    "def againpreprocess(x):\n",
    "    x = str(x).lower()\n",
    "    x = x.replace(\",000,000\", \"m\").replace(\",000\", \"k\").replace(\"′\", \"'\").replace(\"’\", \"'\")\\\n",
    "            .replace(\"ug\", \"under graduate\").replace(\"pg\", \"post graduate\")\\\n",
    "            .replace(\"b tech\", \"bachelor of technology\").replace(\"b e\", \"bachelor of engineering\")\\\n",
    "            .replace(\"p a\", \"per annum\").replace(\"mca\", \"master of computer applications\")\n",
    "                           \n",
    "    return x"
   ]
  },
  {
   "cell_type": "code",
   "execution_count": 91,
   "metadata": {},
   "outputs": [],
   "source": [
    "apps[\"education\"] = apps[\"education\"].fillna(\"\").apply(againpreprocess)\n",
    "apps[\"payrate\"] = apps[\"payrate\"].fillna(\"\").apply(againpreprocess)"
   ]
  },
  {
   "cell_type": "code",
   "execution_count": 92,
   "metadata": {},
   "outputs": [],
   "source": [
    "# stopwords removal\n",
    "stop = stopwords.words('english')\n",
    "\n",
    "users['user_skills'] = users['user_skills'].apply(lambda x: ' '.join([word for word in x.split() if word not in stop]))\n",
    "\n",
    "apps['jobdescription'] = apps['jobdescription'].apply(lambda x: ' '.join([word for word in x.split() if word not in stop]))\n",
    "apps['jobtitle'] = apps['jobtitle'].apply(lambda x: ' '.join([word for word in x.split() if word not in stop]))\n",
    "apps['skills'] = apps['skills'].apply(lambda x: ' '.join([word for word in x.split() if word not in stop]))\n",
    "# apps['experience'] = apps['experience'].apply(lambda x: ' '.join([word for word in x.split() if word not in stop]))\n",
    "apps['education'] = apps['education'].apply(lambda x: ' '.join([word for word in x.split() if word not in stop]))\n",
    "apps['payrate'] = apps['payrate'].apply(lambda x: ' '.join([word for word in x.split() if word not in stop]))"
   ]
  },
  {
   "cell_type": "code",
   "execution_count": 93,
   "metadata": {},
   "outputs": [],
   "source": [
    "#lemmatization\n",
    "\n",
    "from textblob import TextBlob\n",
    "from textblob import Word\n",
    "\n",
    "apps['education'] = apps['education'].apply(lambda x: \" \".join([Word(word).lemmatize() for word in x.split()]))\n",
    "apps['experience'] = apps['experience'].apply(lambda x: \" \".join([Word(word).lemmatize() for word in x.split()]))\n",
    "apps['jobdescription'] = apps['jobdescription'].apply(lambda x: \" \".join([Word(word).lemmatize() for word in x.split()]))\n",
    "apps['jobtitle'] = apps['jobtitle'].apply(lambda x: \" \".join([Word(word).lemmatize() for word in x.split()]))\n",
    "apps['payrate'] = apps['payrate'].apply(lambda x: \" \".join([Word(word).lemmatize() for word in x.split()]))\n",
    "apps['skills'] = apps['skills'].apply(lambda x: \" \".join([Word(word).lemmatize() for word in x.split()]))"
   ]
  },
  {
   "cell_type": "code",
   "execution_count": 94,
   "metadata": {},
   "outputs": [
    {
     "data": {
      "text/plain": [
       "(22000, 861)"
      ]
     },
     "execution_count": 94,
     "metadata": {},
     "output_type": "execute_result"
    }
   ],
   "source": [
    "from sklearn.feature_extraction.text import CountVectorizer\n",
    "from sklearn.preprocessing import LabelEncoder\n",
    "\n",
    "askills_vectorizer = CountVectorizer()\n",
    "askills_features   = askills_vectorizer.fit_transform(apps['skills'])\n",
    "\n",
    "uskills_vectorizer = CountVectorizer()\n",
    "uskills_features   = uskills_vectorizer.fit_transform(users['user_skills'])\n",
    "\n",
    "alocation_vectorizer = CountVectorizer()\n",
    "alocation_features   = alocation_vectorizer.fit_transform(apps['joblocation_address'])\n",
    "\n",
    "ulocation_vectorizer = CountVectorizer()\n",
    "ulocation_features   = ulocation_vectorizer.fit_transform(users['prefered_location'])\n",
    "\n",
    "\n",
    "\n",
    "extra_features = hstack((askills_features, uskills_features, alocation_features, ulocation_features)).tocsr()\n",
    "\n",
    "extra_features.get_shape()"
   ]
  },
  {
   "cell_type": "code",
   "execution_count": 96,
   "metadata": {},
   "outputs": [
    {
     "name": "stdout",
     "output_type": "stream",
     "text": [
      "('User ID :', 47)\n",
      "('User Skills:', 'ites')\n",
      "('User Location:', 'chennai')\n",
      "('Currently employed:', 'yes')\n",
      "('User education:', 'mechanical engineering')\n",
      "('Euclidean similarity with the query :', 0.0)\n",
      "============================================================\n",
      "('User ID :', 115402)\n",
      "('User Skills:', 'ites')\n",
      "('User Location:', 'chennai')\n",
      "('Currently employed:', 'yes')\n",
      "('User education:', 'information technology')\n",
      "('Euclidean similarity with the query :', 0.0)\n",
      "============================================================\n",
      "('User ID :', 118041)\n",
      "('User Skills:', 'ites')\n",
      "('User Location:', 'chennai')\n",
      "('Currently employed:', 'no')\n",
      "('User education:', 'electrical electronics engineering')\n",
      "('Euclidean similarity with the query :', 0.0)\n",
      "============================================================\n",
      "('User ID :', 120023)\n",
      "('User Skills:', 'ites')\n",
      "('User Location:', 'chennai  cuddalore')\n",
      "('Currently employed:', 'yes')\n",
      "('User education:', 'master of science')\n",
      "('Euclidean similarity with the query :', 1.0)\n",
      "============================================================\n",
      "('User ID :', 118043)\n",
      "('User Skills:', 'ites')\n",
      "('User Location:', 'chennai')\n",
      "('Currently employed:', 'no')\n",
      "('User education:', 'information technology')\n",
      "('Euclidean similarity with the query :', 1.4142135623730951)\n",
      "============================================================\n",
      "('User ID :', 557957)\n",
      "('User Skills:', 'ites')\n",
      "('User Location:', 'chennai')\n",
      "('Currently employed:', 'yes')\n",
      "('User education:', 'bachelor of computer applications')\n",
      "('Euclidean similarity with the query :', 1.4142135623730951)\n",
      "============================================================\n",
      "('User ID :', 116656)\n",
      "('User Skills:', 'sales')\n",
      "('User Location:', 'chennai')\n",
      "('Currently employed:', 'no')\n",
      "('User education:', 'information technology')\n",
      "('Euclidean similarity with the query :', 1.4142135623730951)\n",
      "============================================================\n",
      "('User ID :', 536055)\n",
      "('User Skills:', 'ites')\n",
      "('User Location:', 'chennai')\n",
      "('Currently employed:', 'no')\n",
      "('User education:', 'phd')\n",
      "('Euclidean similarity with the query :', 1.4142135623730951)\n",
      "============================================================\n",
      "('User ID :', 107630)\n",
      "('User Skills:', 'ites')\n",
      "('User Location:', 'chennai')\n",
      "('Currently employed:', 'no')\n",
      "('User education:', 'bachelor of business administration')\n",
      "('Euclidean similarity with the query :', 1.4142135623730951)\n",
      "============================================================\n",
      "('User ID :', 107697)\n",
      "('User Skills:', 'sales')\n",
      "('User Location:', 'chennai')\n",
      "('Currently employed:', 'yes')\n",
      "('User education:', 'civil engineering')\n",
      "('Euclidean similarity with the query :', 1.4142135623730951)\n",
      "============================================================\n",
      "('User ID :', 107841)\n",
      "('User Skills:', 'ites')\n",
      "('User Location:', 'chennai')\n",
      "('Currently employed:', 'yes')\n",
      "('User education:', 'information technology')\n",
      "('Euclidean similarity with the query :', 1.4142135623730951)\n",
      "============================================================\n",
      "('User ID :', 566890)\n",
      "('User Skills:', 'ites')\n",
      "('User Location:', 'chennai')\n",
      "('Currently employed:', 'yes')\n",
      "('User education:', 'master of technology')\n",
      "('Euclidean similarity with the query :', 1.4142135623730951)\n",
      "============================================================\n",
      "('User ID :', 109167)\n",
      "('User Skills:', 'hr')\n",
      "('User Location:', 'chennai')\n",
      "('Currently employed:', 'yes')\n",
      "('User education:', 'bachelor of business administration')\n",
      "('Euclidean similarity with the query :', 1.4142135623730951)\n",
      "============================================================\n",
      "('User ID :', 111721)\n",
      "('User Skills:', 'hr')\n",
      "('User Location:', 'chennai')\n",
      "('Currently employed:', 'no')\n",
      "('User education:', 'phd')\n",
      "('Euclidean similarity with the query :', 1.4142135623730951)\n",
      "============================================================\n",
      "('User ID :', 112750)\n",
      "('User Skills:', 'sales')\n",
      "('User Location:', 'chennai')\n",
      "('Currently employed:', 'no')\n",
      "('User education:', 'phd')\n",
      "('Euclidean similarity with the query :', 1.4142135623730951)\n",
      "============================================================\n",
      "('User ID :', 113267)\n",
      "('User Skills:', 'ites')\n",
      "('User Location:', 'chennai')\n",
      "('Currently employed:', 'yes')\n",
      "('User education:', 'bachelors')\n",
      "('Euclidean similarity with the query :', 1.4142135623730951)\n",
      "============================================================\n",
      "('User ID :', 118458)\n",
      "('User Skills:', 'marketing')\n",
      "('User Location:', 'chennai')\n",
      "('Currently employed:', 'no')\n",
      "('User education:', 'bachelors')\n",
      "('Euclidean similarity with the query :', 1.4142135623730951)\n",
      "============================================================\n",
      "('User ID :', 117796)\n",
      "('User Skills:', 'ites')\n",
      "('User Location:', 'chennai')\n",
      "('Currently employed:', 'yes')\n",
      "('User education:', 'mechanical engineering')\n",
      "('Euclidean similarity with the query :', 1.4142135623730951)\n",
      "============================================================\n",
      "('User ID :', 119218)\n",
      "('User Skills:', 'ites')\n",
      "('User Location:', 'chennai')\n",
      "('Currently employed:', 'no')\n",
      "('User education:', 'bachelor of computer applications')\n",
      "('Euclidean similarity with the query :', 1.4142135623730951)\n",
      "============================================================\n",
      "('User ID :', 554155)\n",
      "('User Skills:', 'ites')\n",
      "('User Location:', 'chennai')\n",
      "('Currently employed:', 'no')\n",
      "('User education:', 'high school ')\n",
      "('Euclidean similarity with the query :', 1.4142135623730951)\n",
      "============================================================\n"
     ]
    }
   ],
   "source": [
    "def bag_of_words_model(job_id, num_results):\n",
    "    \n",
    "    # pairwise_dist will store the distance from given input apparel to all remaining apparels\n",
    "    # the metric we used here is cosine, the coside distance is mesured as K(X, Y) = <X, Y> / (||X||*||Y||)\n",
    "    # http://scikit-learn.org/stable/modules/metrics.html#cosine-similarity\n",
    "    pairwise_dist = pairwise_distances(extra_features,extra_features[job_id])\n",
    "    \n",
    "    # np.argsort will return indices of the smallest distances\n",
    "    indices = np.argsort(pairwise_dist.flatten())[0:num_results]\n",
    "    #pdists will store the smallest distances\n",
    "    pdists  = np.sort(pairwise_dist.flatten())[0:num_results]\n",
    "\n",
    "    #data frame indices of the 9 smallest distace's\n",
    "    users_df_indices = list(users.index[indices])\n",
    "    \n",
    "    \n",
    "\n",
    "    \n",
    "    \n",
    "    for i in range(0,len(indices)):\n",
    "        print('User ID :',users['user_id'].loc[users_df_indices[i]])\n",
    "        print ('User Skills:', users['user_skills'].loc[users_df_indices[i]])\n",
    "        print ('User Location:', users['prefered_location'].loc[users_df_indices[i]])\n",
    "        print ('Currently employed:', users['currently_employed'].loc[users_df_indices[i]])\n",
    "        print ('User education:', users['user_education'].loc[users_df_indices[i]])\n",
    "        print ('Euclidean similarity with the query :', pdists[i])\n",
    "        print('='*60)\n",
    "\n",
    "#call the bag-of-words model for a product to get similar products.\n",
    "bag_of_words_model(0, 20) # change the index if you want to."
   ]
  },
  {
   "cell_type": "code",
   "execution_count": 97,
   "metadata": {},
   "outputs": [],
   "source": [
    "# tfidf similarity based approach\n",
    "\n",
    "tfidf_title_vectorizer = TfidfVectorizer(min_df = 0)\n",
    "tfidf_atitle_features = tfidf_title_vectorizer.fit_transform(apps['jobtitle'])\n",
    "tfidf_aeducation_features = tfidf_title_vectorizer.fit_transform(apps['education'])\n",
    "tfidf_ueducation_features = tfidf_title_vectorizer.fit_transform(users['user_education'])\n",
    "tfidf_askills_features = tfidf_title_vectorizer.fit_transform(apps['skills'])\n",
    "tfidf_uskills_features = tfidf_title_vectorizer.fit_transform(users['user_skills'])\n",
    "# tfidf_uexperience_features = tfidf_title_vectorizer.fit_transform(data['users_experience'])\n",
    "tfidf_aexperience_features = tfidf_title_vectorizer.fit_transform(apps['experience'])\n",
    "tfidf_uemployed_features = tfidf_title_vectorizer.fit_transform(users['currently_employed'])\n",
    "tfidf_ulocation_features = tfidf_title_vectorizer.fit_transform(users['prefered_location'])\n",
    "tfidf_alocation_features = tfidf_title_vectorizer.fit_transform(apps['joblocation_address'])"
   ]
  },
  {
   "cell_type": "code",
   "execution_count": 98,
   "metadata": {},
   "outputs": [
    {
     "data": {
      "text/plain": [
       "(22000, 8387)"
      ]
     },
     "execution_count": 98,
     "metadata": {},
     "output_type": "execute_result"
    }
   ],
   "source": [
    "tfidf_all_features = hstack((tfidf_atitle_features, tfidf_aeducation_features, tfidf_ueducation_features,\n",
    "                            tfidf_askills_features,tfidf_uskills_features,tfidf_aexperience_features,\n",
    "                            tfidf_uemployed_features,tfidf_ulocation_features,tfidf_alocation_features)).tocsr()\n",
    "\n",
    "tfidf_all_features.get_shape()"
   ]
  },
  {
   "cell_type": "code",
   "execution_count": 100,
   "metadata": {},
   "outputs": [
    {
     "name": "stdout",
     "output_type": "stream",
     "text": [
      "('User ID :', 47)\n",
      "('User Skills:', 'ites')\n",
      "('User Location:', 'chennai')\n",
      "('Currently employed:', 'yes')\n",
      "('User education:', 'mechanical engineering')\n",
      "('Euclidean similarity with the query image :', 0.0)\n",
      "================================================================\n",
      "('User ID :', 119313)\n",
      "('User Skills:', 'ites')\n",
      "('User Location:', 'chennai')\n",
      "('Currently employed:', 'yes')\n",
      "('User education:', 'mechanical engineering')\n",
      "('Euclidean similarity with the query image :', 2.2020652849791937)\n",
      "================================================================\n",
      "('User ID :', 117796)\n",
      "('User Skills:', 'ites')\n",
      "('User Location:', 'chennai')\n",
      "('Currently employed:', 'yes')\n",
      "('User education:', 'mechanical engineering')\n",
      "('Euclidean similarity with the query image :', 2.2637614440758607)\n",
      "================================================================\n",
      "('User ID :', 111580)\n",
      "('User Skills:', 'ites')\n",
      "('User Location:', 'bengaluru bangalore  pune  chennai')\n",
      "('Currently employed:', 'yes')\n",
      "('User education:', 'civil engineering')\n",
      "('Euclidean similarity with the query image :', 2.3129265752222623)\n",
      "================================================================\n",
      "('User ID :', 115402)\n",
      "('User Skills:', 'ites')\n",
      "('User Location:', 'chennai')\n",
      "('Currently employed:', 'yes')\n",
      "('User education:', 'information technology')\n",
      "('Euclidean similarity with the query image :', 2.342578392365038)\n",
      "================================================================\n",
      "('User ID :', 229707)\n",
      "('User Skills:', 'ites')\n",
      "('User Location:', 'bengaluru bangalore  chennai')\n",
      "('Currently employed:', 'yes')\n",
      "('User education:', 'mechanical engineering')\n",
      "('Euclidean similarity with the query image :', 2.3522248750147594)\n",
      "================================================================\n",
      "('User ID :', 107425)\n",
      "('User Skills:', 'ites')\n",
      "('User Location:', 'chennai  coimbatore  madurai')\n",
      "('Currently employed:', 'yes')\n",
      "('User education:', 'mechanical engineering')\n",
      "('Euclidean similarity with the query image :', 2.4768297121590543)\n",
      "================================================================\n",
      "('User ID :', 119857)\n",
      "('User Skills:', 'production')\n",
      "('User Location:', 'bengaluru bangalore  mumbai  chennai  pune  hyderabad   secunderabad  delhi ncr national capital region ')\n",
      "('Currently employed:', 'yes')\n",
      "('User education:', 'mechanical engineering')\n",
      "('Euclidean similarity with the query image :', 2.487092169141201)\n",
      "================================================================\n",
      "('User ID :', 120016)\n",
      "('User Skills:', 'ites')\n",
      "('User Location:', 'chennai')\n",
      "('Currently employed:', 'yes')\n",
      "('User education:', 'master of technology')\n",
      "('Euclidean similarity with the query image :', 2.4971047139678646)\n",
      "================================================================\n",
      "('User ID :', 120023)\n",
      "('User Skills:', 'ites')\n",
      "('User Location:', 'chennai  cuddalore')\n",
      "('Currently employed:', 'yes')\n",
      "('User education:', 'master of science')\n",
      "('Euclidean similarity with the query image :', 2.49991614282782)\n",
      "================================================================\n",
      "('User ID :', 110482)\n",
      "('User Skills:', 'site engineering')\n",
      "('User Location:', 'chennai')\n",
      "('Currently employed:', 'yes')\n",
      "('User education:', 'electronics and communication engineering')\n",
      "('Euclidean similarity with the query image :', 2.5023275094951662)\n",
      "================================================================\n",
      "('User ID :', 564484)\n",
      "('User Skills:', 'ites')\n",
      "('User Location:', 'chennai')\n",
      "('Currently employed:', 'yes')\n",
      "('User education:', 'mechanical engineering')\n",
      "('Euclidean similarity with the query image :', 2.5186329220345667)\n",
      "================================================================\n",
      "('User ID :', 121046)\n",
      "('User Skills:', 'software application programming')\n",
      "('User Location:', 'bengaluru bangalore')\n",
      "('Currently employed:', 'yes')\n",
      "('User education:', 'mechanical engineering')\n",
      "('Euclidean similarity with the query image :', 2.5218871183492273)\n",
      "================================================================\n",
      "('User ID :', 117002)\n",
      "('User Skills:', 'ites')\n",
      "('User Location:', 'chennai')\n",
      "('Currently employed:', 'yes')\n",
      "('User education:', 'mechanical engineering')\n",
      "('Euclidean similarity with the query image :', 2.5307013186863223)\n",
      "================================================================\n",
      "('User ID :', 112616)\n",
      "('User Skills:', 'software application programming')\n",
      "('User Location:', 'chennai')\n",
      "('Currently employed:', 'yes')\n",
      "('User education:', 'intermediate')\n",
      "('Euclidean similarity with the query image :', 2.532884441323804)\n",
      "================================================================\n",
      "('User ID :', 117404)\n",
      "('User Skills:', 'ites')\n",
      "('User Location:', 'chennai')\n",
      "('Currently employed:', 'yes')\n",
      "('User education:', 'bachelor of computer applications')\n",
      "('Euclidean similarity with the query image :', 2.536627748033379)\n",
      "================================================================\n",
      "('User ID :', 118267)\n",
      "('User Skills:', 'software application programming')\n",
      "('User Location:', 'chennai')\n",
      "('Currently employed:', 'yes')\n",
      "('User education:', 'master of science')\n",
      "('Euclidean similarity with the query image :', 2.551330955602508)\n",
      "================================================================\n",
      "('User ID :', 122941)\n",
      "('User Skills:', 'software mobile')\n",
      "('User Location:', 'bengaluru bangalore')\n",
      "('Currently employed:', 'yes')\n",
      "('User education:', 'mechanical engineering')\n",
      "('Euclidean similarity with the query image :', 2.5540082309863905)\n",
      "================================================================\n",
      "('User ID :', 557352)\n",
      "('User Skills:', 'ites')\n",
      "('User Location:', 'chennai')\n",
      "('Currently employed:', 'yes')\n",
      "('User education:', 'mechanical engineering')\n",
      "('Euclidean similarity with the query image :', 2.5683017550676444)\n",
      "================================================================\n",
      "('User ID :', 129500)\n",
      "('User Skills:', 'ites')\n",
      "('User Location:', 'bengaluru bangalore  mangalore')\n",
      "('Currently employed:', 'yes')\n",
      "('User education:', 'mechanical engineering')\n",
      "('Euclidean similarity with the query image :', 2.576915820577286)\n",
      "================================================================\n"
     ]
    }
   ],
   "source": [
    "def tfidf_model(job_id, num_results):\n",
    "    # job_id: apparel's id in given corpus\n",
    "    \n",
    "    # pairwise_dist will store the distance from given input apparel to all remaining apparels\n",
    "    # the metric we used here is cosine, the coside distance is mesured as K(X, Y) = <X, Y> / (||X||*||Y||)\n",
    "    # http://scikit-learn.org/stable/modules/metrics.html#cosine-similarity\n",
    "    pairwise_dist = pairwise_distances(tfidf_all_features,tfidf_all_features[job_id])\n",
    "\n",
    "    # np.argsort will return indices of 9 smallest distances\n",
    "    indices = np.argsort(pairwise_dist.flatten())[0:num_results]\n",
    "    #pdists will store the 9 smallest distances\n",
    "    pdists  = np.sort(pairwise_dist.flatten())[0:num_results]\n",
    "\n",
    "    #data frame indices of the 9 smallest distace's\n",
    "    users_df_indices = list(users.index[indices])\n",
    "    \n",
    "\n",
    "    for i in range(0,len(indices)):\n",
    "        print('User ID :',users['user_id'].loc[users_df_indices[i]])\n",
    "        print ('User Skills:', users['user_skills'].loc[users_df_indices[i]])\n",
    "        print ('User Location:', users['prefered_location'].loc[users_df_indices[i]])\n",
    "        print ('Currently employed:', users['currently_employed'].loc[users_df_indices[i]])\n",
    "        print ('User education:', users['user_education'].loc[users_df_indices[i]])\n",
    "        print ('Euclidean similarity with the query image :', pdists[i])\n",
    "        print('='*64)\n",
    "tfidf_model(0, 20)\n",
    "# in the output heat map each value represents the tfidf values of the label word, the color represents the intersection with inputs title"
   ]
  },
  {
   "cell_type": "code",
   "execution_count": null,
   "metadata": {},
   "outputs": [],
   "source": []
  }
 ],
 "metadata": {
  "kernelspec": {
   "display_name": "Python 2",
   "language": "python",
   "name": "python2"
  },
  "language_info": {
   "codemirror_mode": {
    "name": "ipython",
    "version": 2
   },
   "file_extension": ".py",
   "mimetype": "text/x-python",
   "name": "python",
   "nbconvert_exporter": "python",
   "pygments_lexer": "ipython2",
   "version": "2.7.15"
  }
 },
 "nbformat": 4,
 "nbformat_minor": 2
}
